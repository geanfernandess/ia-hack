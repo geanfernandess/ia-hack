{
  "cells": [
    {
      "cell_type": "code",
      "execution_count": 2,
      "metadata": {
        "colab": {
          "base_uri": "https://localhost:8080/"
        },
        "id": "T4sU2SN155UM",
        "outputId": "e9be4c8d-4c47-451f-f974-75d845eb4ab4"
      },
      "outputs": [
        {
          "name": "stdout",
          "output_type": "stream",
          "text": [
            "Probabilidade Média de Inadimplência para o Conjunto de Teste: 15.44%\n"
          ]
        }
      ],
      "source": [
        "import pandas as pd\n",
        "from sklearn.model_selection import train_test_split\n",
        "from sklearn.preprocessing import StandardScaler, OneHotEncoder\n",
        "from sklearn.ensemble import RandomForestClassifier\n",
        "from sklearn.metrics import accuracy_score, classification_report\n",
        "from sklearn.compose import ColumnTransformer\n",
        "from sklearn.pipeline import Pipeline  # Importe o Pipeline aqui\n",
        "\n",
        "# Carregar os dados\n",
        "data = pd.read_csv('base_clientes.csv')\n",
        "\n",
        "# Dividir os dados em treinamento e teste\n",
        "X = data.drop('default', axis=1)\n",
        "y = data['default']\n",
        "X_train, X_test, y_train, y_test = train_test_split(X, y, test_size=0.2, random_state=42)\n",
        "\n",
        "# Definir colunas categóricas e numéricas (como mencionado anteriormente)\n",
        "\n",
        "categorical_cols = ['sexo', 'escolaridade', 'estado_civil', 'salario_anual', 'tipo_cartao']\n",
        "numeric_cols = ['idade', 'dependentes', 'meses_de_relacionamento', 'qtd_produtos', 'iteracoes_12m',\n",
        "                'meses_inativo_12m', 'limite_credito', 'valor_transacoes_12m', 'qtd_transacoes_12m']\n",
        "\n",
        "# Definir transformadores para colunas categóricas e numéricas\n",
        "categorical_transformer = Pipeline(steps=[\n",
        "    ('onehot', OneHotEncoder(handle_unknown='ignore'))\n",
        "])\n",
        "\n",
        "numeric_transformer = Pipeline(steps=[\n",
        "    ('scaler', StandardScaler())\n",
        "])\n",
        "\n",
        "# Combina os transformadores\n",
        "preprocessor = ColumnTransformer(\n",
        "    transformers=[\n",
        "        ('num', numeric_transformer, numeric_cols),\n",
        "        ('cat', categorical_transformer, categorical_cols)\n",
        "    ])\n",
        "\n",
        "# Definir o pipeline completo com pré-processamento e modelo\n",
        "model = Pipeline(steps=[('preprocessor', preprocessor),\n",
        "                        ('classifier', RandomForestClassifier(n_estimators=100, random_state=42))\n",
        "                        ])\n",
        "\n",
        "# Treinar o modelo\n",
        "model.fit(X_train, y_train)\n",
        "\n",
        "# Fazer previsões de probabilidades\n",
        "y_prob = model.predict_proba(X_test)\n",
        "\n",
        "# 'y_prob' agora contém as probabilidades das classes (0 e 1) para cada entrada nos dados de teste\n",
        "# y_prob[:, 1] contém a probabilidade da classe positiva (inadimplência) para cada entrada\n",
        "\n",
        "# Calcular a probabilidade média de inadimplência para todo o conjunto de teste\n",
        "probabilidade_media_inadimplencia = y_prob[:, 1].mean()\n",
        "print(f'Probabilidade Média de Inadimplência para o Conjunto de Teste: {probabilidade_media_inadimplencia * 100:.2f}%')\n"
      ]
    },
    {
      "cell_type": "code",
      "execution_count": 10,
      "metadata": {
        "colab": {
          "base_uri": "https://localhost:8080/"
        },
        "id": "y8cOqyLg42-d",
        "outputId": "5bb1b609-9994-49b5-bc52-ece050b7d6e7"
      },
      "outputs": [
        {
          "name": "stdout",
          "output_type": "stream",
          "text": [
            "Previsão de Inadimplência: 0\n"
          ]
        }
      ],
      "source": [
        "import pandas as pd\n",
        "\n",
        "# Criar um DataFrame para o novo cliente\n",
        "user_ad = pd.DataFrame({\n",
        "    'idade': [35],\n",
        "    'sexo': ['M'],\n",
        "    'dependentes': [2],\n",
        "    'escolaridade': ['ensino medio'],\n",
        "    'estado_civil': ['casado'],\n",
        "    'salario_anual': ['$60K - $80K'],\n",
        "    'tipo_cartao': ['blue'],\n",
        "    'meses_de_relacionamento': [30],\n",
        "    'qtd_produtos': [4],\n",
        "    'iteracoes_12m': [2],\n",
        "    'meses_inativo_12m': [1],\n",
        "    'limite_credito': [10000],\n",
        "    'valor_transacoes_12m': [5000],\n",
        "    'qtd_transacoes_12m': [20]\n",
        "})\n",
        "\n",
        "user_inad = pd.DataFrame({\n",
        "    'idade': [43],\n",
        "    'sexo': ['F'],\n",
        "    'dependentes': [2],\n",
        "    'escolaridade': ['mestrado'],\n",
        "    'estado_civil': ['casado'],\n",
        "    'salario_anual': ['menos que $40K'],\n",
        "    'tipo_cartao': ['silver'],\n",
        "    'meses_de_relacionamento': [25],\n",
        "    'qtd_produtos': [6],\n",
        "    'iteracoes_12m': [4],\n",
        "    'meses_inativo_12m': [2],\n",
        "    'limite_credito': [10388.80],\n",
        "    'valor_transacoes_12m': [10294.96],\n",
        "    'qtd_transacoes_12m': [61]\n",
        "})\n",
        "\n",
        "\n",
        "\n",
        "# Certifique-se de que as colunas correspondam às do seu conjunto de dados original\n",
        "\n",
        "# Fazer previsão para o novo cliente\n",
        "new_prediction = model.predict(new_data_ad)\n",
        "\n",
        "# A variável 'new_prediction' agora conterá a previsão de inadimplência para o novo cliente (0 para adimplente, 1 para inadimplente)\n",
        "print(f'Previsão de Inadimplência: {new_prediction[0]}')"
      ]
    },
    {
      "cell_type": "code",
      "execution_count": 6,
      "metadata": {},
      "outputs": [
        {
          "name": "stdout",
          "output_type": "stream",
          "text": [
            "Previsão de adimplente 0: 0\n",
            "Previsão de inadimplente 1: 1\n"
          ]
        }
      ],
      "source": [
        "import pandas as pd\n",
        "from sklearn.model_selection import train_test_split\n",
        "from sklearn.preprocessing import StandardScaler, OneHotEncoder\n",
        "from sklearn.ensemble import RandomForestClassifier\n",
        "from sklearn.metrics import accuracy_score, classification_report\n",
        "from sklearn.compose import ColumnTransformer\n",
        "from sklearn.pipeline import Pipeline  # Importe o Pipeline aqui\n",
        "\n",
        "# Carregar os dados\n",
        "data = pd.read_csv('base_clientes.csv')\n",
        "data = data.drop('meses_de_relacionamento', axis=1)\n",
        "data = data.drop('qtd_produtos', axis=1)\n",
        "data = data.drop('iteracoes_12m', axis=1)\n",
        "data = data.drop('meses_inativo_12m', axis=1)\n",
        "data = data.drop('valor_transacoes_12m', axis=1)\n",
        "data = data.drop('qtd_transacoes_12m', axis=1)\n",
        "# data = data.drop('tipo_cartao', axis=1)\n",
        "\n",
        "\n",
        "# Dividir os dados em treinamento e teste\n",
        "X = data.drop('default', axis=1)\n",
        "y = data['default']\n",
        "X_train, X_test, y_train, y_test = train_test_split(X, y, test_size=0.2, random_state=42)\n",
        "\n",
        "# Definir colunas categóricas e numéricas (como mencionado anteriormente)\n",
        "\n",
        "categorical_cols = [\n",
        "    'sexo', \n",
        "    'escolaridade', \n",
        "    'estado_civil', \n",
        "    'salario_anual', \n",
        "    'tipo_cartao'\n",
        "]\n",
        "numeric_cols = [\n",
        "    'idade', \n",
        "    'dependentes', \n",
        "    # 'meses_de_relacionamento', \n",
        "    # 'qtd_produtos', \n",
        "    # 'iteracoes_12m',\n",
        "    # 'meses_inativo_12m', \n",
        "    # 'limite_credito', \n",
        "    # 'valor_transacoes_12m', \n",
        "    # 'qtd_transacoes_12m'\n",
        "]\n",
        "\n",
        "# Definir transformadores para colunas categóricas e numéricas\n",
        "categorical_transformer = Pipeline(steps=[\n",
        "    ('onehot', OneHotEncoder(handle_unknown='ignore'))\n",
        "])\n",
        "\n",
        "numeric_transformer = Pipeline(steps=[\n",
        "    ('scaler', StandardScaler())\n",
        "])\n",
        "\n",
        "# Combina os transformadores\n",
        "preprocessor = ColumnTransformer(\n",
        "    transformers=[\n",
        "        ('num', numeric_transformer, numeric_cols),\n",
        "        ('cat', categorical_transformer, categorical_cols)\n",
        "    ])\n",
        "\n",
        "# Definir o pipeline completo com pré-processamento e modelo\n",
        "model = Pipeline(steps=[('preprocessor', preprocessor),\n",
        "                        ('classifier', RandomForestClassifier(n_estimators=100, random_state=42))\n",
        "                        ])\n",
        "\n",
        "# Treinar o modelo\n",
        "model.fit(X_train, y_train)\n",
        "\n",
        "user_ad = pd.DataFrame({\n",
        "    'idade': [35],\n",
        "    'sexo': ['M'],\n",
        "    'dependentes': [2],\n",
        "    'escolaridade': ['ensino medio'],\n",
        "    'estado_civil': ['casado'],\n",
        "    'salario_anual': ['$60K - $80K'],\n",
        "    'tipo_cartao': ['blue'],\n",
        "    # 'meses_de_relacionamento': [30],\n",
        "    # 'qtd_produtos': [4],\n",
        "    # 'iteracoes_12m': [2],\n",
        "    # 'meses_inativo_12m': [1],\n",
        "    # 'limite_credito': [10000],\n",
        "    # 'valor_transacoes_12m': [5000],\n",
        "    # 'qtd_transacoes_12m': [20]\n",
        "})\n",
        "\n",
        "user_inad = pd.DataFrame({\n",
        "    'idade': [43],\n",
        "    'sexo': ['F'],\n",
        "    'dependentes': [2],\n",
        "    'escolaridade': ['mestrado'],\n",
        "    'estado_civil': ['casado'],\n",
        "    'salario_anual': ['menos que $40K'],\n",
        "    'tipo_cartao': ['silver'],\n",
        "    # 'meses_de_relacionamento': [25],\n",
        "    # 'qtd_produtos': [6],\n",
        "    # 'iteracoes_12m': [4],\n",
        "    # 'meses_inativo_12m': [2],\n",
        "    # 'limite_credito': [10388.80],\n",
        "    # 'valor_transacoes_12m': [10294.96],\n",
        "    # 'qtd_transacoes_12m': [61]\n",
        "})\n",
        "\n",
        "\n",
        "\n",
        "# Certifique-se de que as colunas correspondam às do seu conjunto de dados original\n",
        "\n",
        "# Fazer previsão para o novo cliente\n",
        "new_prediction_ad = model.predict(user_ad)\n",
        "new_prediction_inad = model.predict(user_inad)\n",
        "\n",
        "# A variável 'new_prediction' agora conterá a previsão de inadimplência para o novo cliente (0 para adimplente, 1 para inadimplente)\n",
        "print(f'Previsão de adimplente 0: {new_prediction_ad[0]}')\n",
        "print(f'Previsão de inadimplente 1: {new_prediction_inad[0]}')\n",
        "\n"
      ]
    },
    {
      "cell_type": "code",
      "execution_count": null,
      "metadata": {},
      "outputs": [],
      "source": []
    },
    {
      "cell_type": "code",
      "execution_count": 4,
      "metadata": {},
      "outputs": [
        {
          "name": "stdout",
          "output_type": "stream",
          "text": [
            " * Serving Flask app '__main__'\n",
            " * Debug mode: on\n"
          ]
        },
        {
          "name": "stderr",
          "output_type": "stream",
          "text": [
            "WARNING: This is a development server. Do not use it in a production deployment. Use a production WSGI server instead.\n",
            " * Running on http://127.0.0.1:5000\n",
            "Press CTRL+C to quit\n",
            " * Restarting with stat\n"
          ]
        },
        {
          "ename": "SystemExit",
          "evalue": "1",
          "output_type": "error",
          "traceback": [
            "An exception has occurred, use %tb to see the full traceback.\n",
            "\u001b[1;31mSystemExit\u001b[0m\u001b[1;31m:\u001b[0m 1\n"
          ]
        },
        {
          "name": "stderr",
          "output_type": "stream",
          "text": [
            "C:\\Users\\Gean\\AppData\\Local\\Packages\\PythonSoftwareFoundation.Python.3.11_qbz5n2kfra8p0\\LocalCache\\local-packages\\Python311\\site-packages\\IPython\\core\\interactiveshell.py:3534: UserWarning: To exit: use 'exit', 'quit', or Ctrl-D.\n",
            "  warn(\"To exit: use 'exit', 'quit', or Ctrl-D.\", stacklevel=1)\n"
          ]
        }
      ],
      "source": [
        "from flask import Flask, request, render_template\n",
        "\n",
        "app = Flask(__name__)\n",
        "\n",
        "@app.route('/predict', methods=['POST'])\n",
        "def predict():\n",
        "    # Receba os dados do formulário\n",
        "    idade = int(request.form['idade'])\n",
        "    # Aqui você pode pegar os valores dos outros campos do formulário também\n",
        "\n",
        "    # Faça previsões com base nos dados\n",
        "    # Substitua isso pelo código real para fazer previsões com seu modelo\n",
        "\n",
        "    resultado = \"Aqui vem o resultado da previsão.\"\n",
        "\n",
        "    return render_template('resultado.html', resultado=resultado)\n",
        "\n",
        "if __name__ == '__main__':\n",
        "    app.run(debug=True)"
      ]
    }
  ],
  "metadata": {
    "colab": {
      "provenance": [],
      "toc_visible": true
    },
    "kernelspec": {
      "display_name": "Python 3",
      "language": "python",
      "name": "python3"
    },
    "language_info": {
      "codemirror_mode": {
        "name": "ipython",
        "version": 3
      },
      "file_extension": ".py",
      "mimetype": "text/x-python",
      "name": "python",
      "nbconvert_exporter": "python",
      "pygments_lexer": "ipython3",
      "version": "3.11.5"
    }
  },
  "nbformat": 4,
  "nbformat_minor": 0
}
